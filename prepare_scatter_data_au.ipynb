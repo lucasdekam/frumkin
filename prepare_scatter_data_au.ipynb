{
 "cells": [
  {
   "cell_type": "code",
   "execution_count": null,
   "metadata": {},
   "outputs": [],
   "source": [
    "import pandas as pd\n",
    "import numpy as np\n",
    "from scipy.interpolate import interp1d\n",
    "\n",
    "def process(edl_constructor, dataframe: pd.DataFrame, pzc_she: float):\n",
    "    \"\"\"\n",
    "    Process Monteiro data and calculate phi0-phi'\n",
    "    \"\"\"\n",
    "    dataframe[\"E_SHE\"] = dataframe[\"E vs. RHE\"] - dataframe[\"pH\"] * 59e-3\n",
    "    dataframe[\"phi0\"] = dataframe[\"E_SHE\"] - pzc_she\n",
    "\n",
    "    # Find unique log concentration values\n",
    "    unique_logc_values = dataframe.drop_duplicates(subset=\"log c\")[\"log c\"].values\n",
    "\n",
    "    # One computation for each concentration value\n",
    "    processed_dfs = []\n",
    "\n",
    "    for logc in unique_logc_values:\n",
    "        df_select_logc = dataframe[dataframe[\"log c\"] == logc].copy()\n",
    "        model = edl_constructor(10**logc)\n",
    "\n",
    "        potentials_vs_pzc = np.linspace(np.min(df_select_logc[\"phi0\"]), 0, 50)\n",
    "        sweep = model.potential_sweep(potentials_vs_pzc, tol=1e-4)\n",
    "\n",
    "        # Interpolate the result for the phi0 values already in the dataframe\n",
    "        interpolator = interp1d(potentials_vs_pzc, sweep[\"phi_rp\"])\n",
    "        df_select_logc[\"phi_rp\"] = interpolator(df_select_logc[\"phi0\"])\n",
    "        processed_dfs.append(df_select_logc)\n",
    "\n",
    "    return_df = pd.concat(processed_dfs)\n",
    "    return_df['c'] = 10 ** return_df['log c'].values\n",
    "    return return_df"
   ]
  },
  {
   "cell_type": "code",
   "execution_count": null,
   "metadata": {},
   "outputs": [],
   "source": [
    "from edl.models import ExplicitStern as model1\n",
    "from edl.models import DoubleLayerModel as model2\n",
    "from edl.constants import AU_PZC_SHE_V as PZC\n",
    "species_dict = {'Li': 7, 'Na': 6, 'K': 5}\n",
    "x2_dict = {'Cs': 3.5e-10, 'K': 4.1e-10, 'Na': 5.2e-10, 'Li': 5.8e-10}"
   ]
  },
  {
   "cell_type": "code",
   "execution_count": null,
   "metadata": {},
   "outputs": [],
   "source": [
    "df_dict = {}\n",
    "for species, gamma in species_dict.items():\n",
    "    df = pd.read_csv(f\"data/{species}.csv\")\n",
    "    # df = process(lambda c: model1(c, properties[0], 2, x2_dict[species]), df, pzc_she=PZC)\n",
    "    df = process(lambda c: model2(c, gamma, 2), df, pzc_she=PZC)\n",
    "    df_dict[species] = df\n",
    "\n",
    "df_dict_ringe = {}\n",
    "for species, gamma in species_dict.items():\n",
    "    df = pd.read_csv(f\"data/{species}.csv\")\n",
    "    df = process(lambda c: model1(c, gamma, 2, x2_dict[species]), df, pzc_she=PZC)\n",
    "    # df = process(lambda c: model2(c, properties[0], 2), df, pzc_she=PZC)\n",
    "    df_dict_ringe[species] = df"
   ]
  },
  {
   "cell_type": "code",
   "execution_count": null,
   "metadata": {},
   "outputs": [],
   "source": [
    "for species, df in df_dict.items():\n",
    "    df['species'] = species\n",
    "all_df = pd.concat(list(df_dict.values()))\n",
    "\n",
    "for species, df in df_dict_ringe.items():\n",
    "    df['species'] = species\n",
    "all_df_ringe = pd.concat(list(df_dict_ringe.values()))\n",
    "\n",
    "# import pandas as pd\n",
    "all_df.to_csv('data/au_df.csv', index=False, float_format='%10.3f')\n",
    "all_df_ringe.to_csv('data/au_df_ringe.csv', index=False, float_format='%10.3f')"
   ]
  }
 ],
 "metadata": {
  "kernelspec": {
   "display_name": "Python 3",
   "language": "python",
   "name": "python3"
  },
  "language_info": {
   "codemirror_mode": {
    "name": "ipython",
    "version": 3
   },
   "file_extension": ".py",
   "mimetype": "text/x-python",
   "name": "python",
   "nbconvert_exporter": "python",
   "pygments_lexer": "ipython3",
   "version": "3.12.4"
  }
 },
 "nbformat": 4,
 "nbformat_minor": 2
}
