{
 "cells": [
  {
   "cell_type": "code",
   "execution_count": null,
   "metadata": {},
   "outputs": [],
   "source": [
    "from pyedl.electrolyte import LatticeElectrolyte, Ion, Water\n",
    "from pyedl.gongadze_iglic import GongadzeIglic\n",
    "from pyedl.mesh import create_mesh\n",
    "import numpy as np \n",
    "\n",
    "potential = np.linspace(-1, 1, 500)\n",
    "x_mesh = create_mesh() \n",
    "concentrations = [1e-4, 1e-3, 1e-2, 1e-1, 5e-1]\n",
    "results = []\n",
    "\n",
    "for conc in concentrations:\n",
    "    el = LatticeElectrolyte([\n",
    "        Water(),\n",
    "        Ion(\"Na+\", 3, conc, +1),\n",
    "        Ion(\"Cl-\", 3, conc, -1),\n",
    "    ])\n",
    "\n",
    "    model = GongadzeIglic(el, ohp=3.5, eps_stern=10) \n",
    "    result = model.voltammetry(x_mesh, potential, tol=1e-5)\n",
    "    results.append(result)\n"
   ]
  },
  {
   "cell_type": "code",
   "execution_count": null,
   "metadata": {},
   "outputs": [],
   "source": [
    "import matplotlib.pyplot as plt\n",
    "%matplotlib widget \n",
    "\n",
    "fig, ax = plt.subplots()\n",
    "\n",
    "for conc, result in zip(concentrations, results):\n",
    "    ax.plot(result.potential, result.capacitance, label=f\"{conc*1e3:.1f}mM\")\n",
    "\n",
    "ax.legend()\n",
    "ax.set_xlabel('Potential (V)')\n",
    "ax.set_ylabel(r'Capacitance ($\\mu$F/cm$^2$)')\n",
    "ax.set_ylim([0, 30])\n",
    "plt.show()"
   ]
  },
  {
   "cell_type": "code",
   "execution_count": null,
   "metadata": {},
   "outputs": [],
   "source": [
    "from scipy import constants \n",
    "model.el.n_site / constants.angstrom ** 3\n",
    "\n",
    "from pyedl import defaults \n",
    "defaults.WATER_BULK_M"
   ]
  },
  {
   "cell_type": "code",
   "execution_count": null,
   "metadata": {},
   "outputs": [],
   "source": [
    "x_mesh = create_mesh() \n",
    "concentrations = [1e-4, 1e-3, 1e-2, 1e-1, 5e-1]\n",
    "results = []\n",
    "potential = -1.00\n",
    "\n",
    "for conc in concentrations:\n",
    "    el = LatticeElectrolyte([\n",
    "        Water(),\n",
    "        Ion(\"Na+\", 3, conc, +1),\n",
    "        Ion(\"Cl-\", 3, conc, -1),\n",
    "    ])\n",
    "\n",
    "    model = GongadzeIglic(el, ohp=3.5, eps_stern=10) \n",
    "    result = model.single_point(x_mesh, potential, tol=1e-5)\n",
    "    results.append(result)"
   ]
  },
  {
   "cell_type": "code",
   "execution_count": null,
   "metadata": {},
   "outputs": [],
   "source": [
    "fig, ax = plt.subplots()\n",
    "\n",
    "for conc, result in zip(concentrations, results):\n",
    "    # ax.plot(result.x, result.concentrations[\"Na+\"], label=f\"{conc*1e3:.0f}mM\")\n",
    "    ax.plot(result.x, result.potential, label=f\"{conc*1e3:.0f}mM\")\n",
    "\n",
    "ax.legend()\n",
    "ax.set_xlabel(r'x / A')\n",
    "ax.set_ylim([-1.2, 0.1])\n",
    "ax.set_xlim([0, 20])\n",
    "plt.show()"
   ]
  },
  {
   "cell_type": "code",
   "execution_count": null,
   "metadata": {},
   "outputs": [],
   "source": [
    "fig, ax = plt.subplots()\n",
    "\n",
    "for conc, result in zip(concentrations, results):\n",
    "    ax.plot(result.x, result.permittivity, label=f\"{conc*1e3:.0f}mM\")\n",
    "\n",
    "ax.legend()\n",
    "ax.set_xlabel(r'x / A')\n",
    "ax.set_ylim([0, 100])\n",
    "ax.set_xlim([0, 20])\n",
    "plt.show()"
   ]
  },
  {
   "cell_type": "code",
   "execution_count": null,
   "metadata": {},
   "outputs": [],
   "source": []
  }
 ],
 "metadata": {
  "kernelspec": {
   "display_name": "modeling",
   "language": "python",
   "name": "python3"
  },
  "language_info": {
   "codemirror_mode": {
    "name": "ipython",
    "version": 3
   },
   "file_extension": ".py",
   "mimetype": "text/x-python",
   "name": "python",
   "nbconvert_exporter": "python",
   "pygments_lexer": "ipython3",
   "version": "3.13.0"
  }
 },
 "nbformat": 4,
 "nbformat_minor": 2
}
