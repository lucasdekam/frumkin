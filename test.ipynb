{
 "cells": [
  {
   "cell_type": "code",
   "execution_count": null,
   "metadata": {},
   "outputs": [],
   "source": [
    "from pyedl.electrolyte import LatticeElectrolyte, Ion, Water\n",
    "from pyedl.gongadze_iglic import GongadzeIglic\n",
    "from pyedl.mesh import create_mesh\n",
    "import numpy as np \n",
    "\n",
    "potential = np.linspace(-1, 1, 500)\n",
    "x_mesh = create_mesh() \n",
    "concentrations = [1e-3, 1e-2, 1e-1, 2.5e-1]\n",
    "capacitances = []\n",
    "\n",
    "for conc in concentrations:\n",
    "    el = LatticeElectrolyte([\n",
    "        Water(),\n",
    "        Ion(\"Na+\", 6, conc, +1),\n",
    "        Ion(\"Cl-\", 2, conc, -1),\n",
    "    ])\n",
    "\n",
    "    model = GongadzeIglic(el, ohp=2.8) #, eps_stern=4) \n",
    "    chg = model.voltammetry(x_mesh, potential, tol=1e-5)\n",
    "    cap = np.diff(chg) / np.diff(potential)\n",
    "    capacitances.append(cap)\n"
   ]
  },
  {
   "cell_type": "code",
   "execution_count": null,
   "metadata": {},
   "outputs": [],
   "source": [
    "import matplotlib.pyplot as plt\n",
    "%matplotlib widget \n",
    "\n",
    "fig, ax = plt.subplots()\n",
    "\n",
    "for conc, cap in zip(concentrations, capacitances):\n",
    "    ax.plot(potential[:-1], cap * 100, label=f\"{conc*1e3:.0f}mM\")\n",
    "\n",
    "ax.legend()\n",
    "ax.set_xlabel('Potential (V)')\n",
    "ax.set_ylabel(r'Capacitance ($\\mu$F/cm$^2$)')\n",
    "ax.set_ylim([0, 150])\n",
    "plt.show()"
   ]
  },
  {
   "cell_type": "code",
   "execution_count": null,
   "metadata": {},
   "outputs": [],
   "source": []
  }
 ],
 "metadata": {
  "kernelspec": {
   "display_name": "modeling",
   "language": "python",
   "name": "python3"
  },
  "language_info": {
   "codemirror_mode": {
    "name": "ipython",
    "version": 3
   },
   "file_extension": ".py",
   "mimetype": "text/x-python",
   "name": "python",
   "nbconvert_exporter": "python",
   "pygments_lexer": "ipython3",
   "version": "3.13.0"
  }
 },
 "nbformat": 4,
 "nbformat_minor": 2
}
