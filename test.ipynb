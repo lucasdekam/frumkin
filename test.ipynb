{
 "cells": [
  {
   "cell_type": "code",
   "execution_count": null,
   "metadata": {},
   "outputs": [],
   "source": [
    "from edl.gongadze_iglic import GongadzeIglic\n",
    "import numpy as np \n",
    "\n",
    "species = {\n",
    "    \"cation\": {\n",
    "        \"charge\": +1,\n",
    "        \"fraction\": 0.1/55,\n",
    "        \"size\": 5,\n",
    "    },\n",
    "    \"anion\": {\n",
    "        \"charge\": -1,\n",
    "        \"fraction\": 0.1/55,\n",
    "        \"size\": 2,\n",
    "    },\n",
    "    \"water\": {\n",
    "        \"charge\": 0,\n",
    "        \"fraction\": 54.3/55,\n",
    "        \"size\": 1,\n",
    "        \"dipole\": 0.9861584337648005,\n",
    "    }\n",
    "}\n",
    "\n",
    "model = GongadzeIglic(species, ohp=2.8, min_eps=4)"
   ]
  },
  {
   "cell_type": "code",
   "execution_count": null,
   "metadata": {},
   "outputs": [],
   "source": [
    "import matplotlib.pyplot as plt\n",
    "%matplotlib widget \n",
    "\n",
    "def create_mesh(xmax=1000, n_points=1000):\n",
    "    \"\"\"\n",
    "    Get a logarithmically spaced x-axis, fine mesh close to electrode\n",
    "    \"\"\"\n",
    "    max_exponent = np.log10(xmax)\n",
    "    mesh = np.logspace(-6, max_exponent, n_points) - 1e-6\n",
    "    return mesh\n",
    "\n",
    "potential = np.linspace(-40, 40, 500)\n",
    "x_mesh = create_mesh(1000, 1000) \n",
    "chg = model.voltammetry(x_mesh, potential, tol=1e-5)\n",
    "cap = np.diff(chg) / np.diff(potential)\n",
    "plt.plot(potential[:-1], cap)\n",
    "plt.show()"
   ]
  },
  {
   "cell_type": "code",
   "execution_count": null,
   "metadata": {},
   "outputs": [],
   "source": [
    "a = model.ode_rhs(np.ones(100), np.ones((2,100)))\n",
    "b = model.ode_rhs(np.ones(100), a)"
   ]
  },
  {
   "cell_type": "code",
   "execution_count": null,
   "metadata": {},
   "outputs": [],
   "source": [
    "model.boundary_condition(np.ones(2), np.ones(2), 1)"
   ]
  },
  {
   "cell_type": "code",
   "execution_count": null,
   "metadata": {},
   "outputs": [],
   "source": []
  }
 ],
 "metadata": {
  "kernelspec": {
   "display_name": "modeling",
   "language": "python",
   "name": "python3"
  },
  "language_info": {
   "codemirror_mode": {
    "name": "ipython",
    "version": 3
   },
   "file_extension": ".py",
   "mimetype": "text/x-python",
   "name": "python",
   "nbconvert_exporter": "python",
   "pygments_lexer": "ipython3",
   "version": "3.13.0"
  }
 },
 "nbformat": 4,
 "nbformat_minor": 2
}
