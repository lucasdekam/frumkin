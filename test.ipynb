{
 "cells": [
  {
   "cell_type": "code",
   "execution_count": 1,
   "metadata": {},
   "outputs": [],
   "source": [
    "from edl.electrolyte import LatticeElectrolyte, Ion, Water\n",
    "import numpy as np \n",
    "\n",
    "el = LatticeElectrolyte([\n",
    "    Water(),\n",
    "    Ion(\"Na+\", 6, 0.1, +1),\n",
    "    Ion(\"Cl-\", 2, 0.1, -1),\n",
    "])"
   ]
  },
  {
   "cell_type": "code",
   "execution_count": 2,
   "metadata": {},
   "outputs": [],
   "source": [
    "def create_mesh(xmax=1000, n_points=1000):\n",
    "    \"\"\"\n",
    "    Get a logarithmically spaced x-axis, fine mesh close to electrode\n",
    "    \"\"\"\n",
    "    max_exponent = np.log10(xmax)\n",
    "    mesh = np.logspace(-6, max_exponent, n_points) - 1e-6\n",
    "    return mesh\n",
    "\n",
    "potential = np.linspace(-1, 1, 500)\n",
    "x_mesh = create_mesh(1000, 1000) "
   ]
  },
  {
   "cell_type": "code",
   "execution_count": null,
   "metadata": {},
   "outputs": [],
   "source": [
    "from edl.gongadze_iglic import GongadzeIglic\n",
    "\n",
    "model = GongadzeIglic(el, ohp=2.8) \n",
    "chg = model.voltammetry(x_mesh, potential, tol=1e-5)\n",
    "cap = np.diff(chg) / np.diff(potential)"
   ]
  },
  {
   "cell_type": "code",
   "execution_count": null,
   "metadata": {},
   "outputs": [],
   "source": [
    "import matplotlib.pyplot as plt\n",
    "%matplotlib widget \n",
    "\n",
    "fig, ax = plt.subplots()\n",
    "\n",
    "ax.plot(potential[:-1], cap * 100)\n",
    "\n",
    "ax.set_xlabel('Potential (V)')\n",
    "ax.set_ylabel(r'Capacitance ($\\mu$F/cm$^2$)')\n",
    "# ax.set_title('Capacitance vs Potential')\n",
    "plt.show()"
   ]
  },
  {
   "cell_type": "code",
   "execution_count": null,
   "metadata": {},
   "outputs": [],
   "source": [
    "1 / 2 * (el.ion_sizes / el.n_site) ** (1 / 3)"
   ]
  },
  {
   "cell_type": "code",
   "execution_count": null,
   "metadata": {},
   "outputs": [],
   "source": []
  }
 ],
 "metadata": {
  "kernelspec": {
   "display_name": "modeling",
   "language": "python",
   "name": "python3"
  },
  "language_info": {
   "codemirror_mode": {
    "name": "ipython",
    "version": 3
   },
   "file_extension": ".py",
   "mimetype": "text/x-python",
   "name": "python",
   "nbconvert_exporter": "python",
   "pygments_lexer": "ipython3",
   "version": "3.13.0"
  }
 },
 "nbformat": 4,
 "nbformat_minor": 2
}
