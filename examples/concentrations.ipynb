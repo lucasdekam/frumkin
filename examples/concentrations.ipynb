{
 "cells": [
  {
   "cell_type": "code",
   "execution_count": null,
   "metadata": {},
   "outputs": [],
   "source": [
    "from pyedl.electrolyte import LatticeElectrolyte, Ion, Water\n",
    "from pyedl.gongadze_iglic import GongadzeIglic\n",
    "import numpy as np \n",
    "\n",
    "potential = np.linspace(-1, 1, 200)\n",
    "concentrations = [1e-3, 1e-2, 1e-1, 5e-1]\n",
    "results = []\n",
    "\n",
    "def get_model(conc):\n",
    "    el = LatticeElectrolyte([\n",
    "        Water(),\n",
    "        Ion(r\"Na$^+$\", 6, conc, +1),\n",
    "        Ion(r\"Cl$^-$\", 2, conc, -1),\n",
    "    ])\n",
    "\n",
    "    return GongadzeIglic(el, ohp=2.8) #, eps_stern=10) \n",
    "\n",
    "for conc in concentrations:\n",
    "    model = get_model(conc)\n",
    "    result = model.voltammetry(potential, tol=1e-5)\n",
    "    results.append(result)\n"
   ]
  },
  {
   "cell_type": "code",
   "execution_count": null,
   "metadata": {},
   "outputs": [],
   "source": [
    "import matplotlib.pyplot as plt \n",
    "%matplotlib widget \n",
    "\n",
    "fig = None\n",
    "\n",
    "for conc, result in zip(concentrations, results):\n",
    "    fig = result.plot(fig=fig, legend=0, label=f\"{conc*1e3:.1f}mM\")\n",
    "\n",
    "fig.axes[1].set_ylim([0, 150])\n",
    "fig.axes[0].legend(frameon=False)\n",
    "plt.show()"
   ]
  },
  {
   "cell_type": "code",
   "execution_count": null,
   "metadata": {},
   "outputs": [],
   "source": [
    "profiles = []\n",
    "potential = -1\n",
    "\n",
    "for conc in concentrations:\n",
    "    model = get_model(conc)\n",
    "    prf = model.single_point(potential, tol=1e-5)\n",
    "    profiles.append(prf)"
   ]
  },
  {
   "cell_type": "code",
   "execution_count": null,
   "metadata": {},
   "outputs": [],
   "source": [
    "fig = None\n",
    "\n",
    "for conc, prf in zip(concentrations, profiles):\n",
    "    fig = prf.plot(fig=fig, x_max=20, legend=0, label=f\"{conc*1e3:.1f}mM\")\n",
    "\n",
    "fig.axes[0].legend(frameon=False)\n",
    "plt.show()"
   ]
  },
  {
   "cell_type": "code",
   "execution_count": null,
   "metadata": {},
   "outputs": [],
   "source": []
  }
 ],
 "metadata": {
  "kernelspec": {
   "display_name": "modeling",
   "language": "python",
   "name": "python3"
  },
  "language_info": {
   "codemirror_mode": {
    "name": "ipython",
    "version": 3
   },
   "file_extension": ".py",
   "mimetype": "text/x-python",
   "name": "python",
   "nbconvert_exporter": "python",
   "pygments_lexer": "ipython3",
   "version": "3.13.0"
  }
 },
 "nbformat": 4,
 "nbformat_minor": 2
}
