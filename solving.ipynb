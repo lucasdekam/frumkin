{
 "cells": [
  {
   "cell_type": "code",
   "execution_count": null,
   "metadata": {},
   "outputs": [],
   "source": [
    "from sympy import symbols, Function, exp, sinh, coth, diff, Eq, solve\n",
    "\n",
    "x = symbols('x')\n",
    "y1 = symbols('y1', cls=Function)\n",
    "y2 = diff(y1(x), x)\n",
    "y2prime = diff(y2, x)\n",
    "\n",
    "eps_op, p, kappa = symbols('epsilon_OP p kappa', positive=True)\n",
    "za, zc = symbols('za zc')\n",
    "# ns0, na0, nc0 = symbols('n_s0 n_a0 n_c0', positive=True)\n",
    "gam_s, gam_a, gam_c = symbols('gamma_s gamma_a gamma_c')\n",
    "# chis = ns0 / (ns0 + na0 + nc0)\n",
    "# chia = na0 / (ns0 + na0 + nc0)\n",
    "# chic = nc0 / (ns0 + na0 + nc0)\n",
    "# bfs = sinh(p * y2) / (p * y2)\n",
    "# bfa = exp(-za * y1(x))\n",
    "# bfc = exp(-zc * y1(x))\n",
    "# denom =  (gam_s * chis * bfs + gam_a * chia * bfa + gam_c * chic * bfc)\n",
    "# ns = ns0 * bfs / denom \n",
    "# na = na0 * bfa / denom \n",
    "# nc = nc0 * bfc / denom\n",
    "ns, na, nc = symbols('n_s n_a n_c', cls=Function)\n",
    "# ns, na, nc = symbols('ns na nc', cls=Function)\n",
    "# langevin = coth(p * y2) - 1/(p * y2)\n",
    "langevin = symbols('L', cls=Function)\n",
    "\n",
    "equation = Eq(-(eps_op * y2 + ns(y1(x), y2) * p * kappa * langevin(y2)).diff(x), kappa*(nc(y1(x), y2) - na(y1(x), y2)))\n",
    "equation"
   ]
  },
  {
   "cell_type": "code",
   "execution_count": null,
   "metadata": {},
   "outputs": [],
   "source": [
    "solution = solve(equation, y2prime)\n",
    "solution[0].subs(y2, symbols('y2'))"
   ]
  },
  {
   "cell_type": "code",
   "execution_count": null,
   "metadata": {},
   "outputs": [],
   "source": []
  }
 ],
 "metadata": {
  "kernelspec": {
   "display_name": "modeling",
   "language": "python",
   "name": "python3"
  },
  "language_info": {
   "codemirror_mode": {
    "name": "ipython",
    "version": 3
   },
   "file_extension": ".py",
   "mimetype": "text/x-python",
   "name": "python",
   "nbconvert_exporter": "python",
   "pygments_lexer": "ipython3",
   "version": "3.13.0"
  }
 },
 "nbformat": 4,
 "nbformat_minor": 2
}
